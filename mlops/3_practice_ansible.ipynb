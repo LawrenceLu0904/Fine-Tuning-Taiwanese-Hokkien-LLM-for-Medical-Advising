{
 "cells": [
  {
   "cell_type": "markdown",
   "metadata": {},
   "source": [
    "## Practice using Ansible\n",
    "\n",
    "Now that we have provisioned some infrastructure, we can configure and install software on it using Ansible!\n",
    "\n",
    "Ansible is a tool for configuring systems by accessing them over SSH and running commands on them. The commands to run will be defined in advance in a series of *playbooks*, so that instead of using SSH directly and then running commands ourselves interactively, we can just execute a playbook to set up our systems.\n",
    "\n",
    "First, let’s just practice using Ansible."
   ]
  },
  {
   "cell_type": "markdown",
   "metadata": {},
   "source": [
    "### Preliminaries"
   ]
  },
  {
   "cell_type": "markdown",
   "metadata": {},
   "source": [
    "As before, let’s make sure we’ll be able to use the Ansible executables. We need to put the install directory in the `PATH` inside each new Bash session."
   ]
  },
  {
   "cell_type": "code",
   "execution_count": null,
   "metadata": {
    "tags": []
   },
   "outputs": [],
   "source": [
    "# runs in Chameleon Jupyter environment\n",
    "\n",
    "export PATH=$HOME/.local/bin:$PATH\n",
    "export PYTHONUSERBASE=$HOME/.local"
   ]
  },
  {
   "cell_type": "markdown",
   "metadata": {},
   "source": [
    "If you haven’t already, make sure to put your floating IP (which you can see in the output of the Terraform command!) in the `ansible.cfg` configuration file, and move it to the specified location.\n",
    "\n",
    "The following cell will show the contents of this file, so you can double check - make sure your real floating IP is visible in this output!"
   ]
  },
  {
   "cell_type": "code",
   "execution_count": null,
   "metadata": {
    "tags": []
   },
   "outputs": [
    {
     "name": "stdout",
     "output_type": "stream",
     "text": [
      "[defaults]\n",
      "stdout_callback = yaml\n",
      "#inventory = /home/yc7690_nyu_edu/Fine-Tuning-Taiwanese-Hokkien-LLM-for-Medical-Advising/iac/ansible/inventory.yaml\n",
      "\n",
      "[ssh_connection]\n",
      "ssh_args = -F /home/yc7690_nyu_edu/.ssh/config -o StrictHostKeyChecking=off -o UserKnownHostsFile=/dev/null -o ForwardAgent=yes\n"
     ]
    }
   ],
   "source": [
    "# runs in Chameleon Jupyter environment\n",
    "\n",
    "cat ~/Fine-Tuning-Taiwanese-Hokkien-LLM-for-Medical-Advising/iac/ansible/ansible.cfg"
   ]
  },
  {
   "cell_type": "markdown",
   "metadata": {},
   "source": [
    "Finally, we’ll `cd` to that directory -"
   ]
  },
  {
   "cell_type": "code",
   "execution_count": null,
   "metadata": {
    "tags": []
   },
   "outputs": [],
   "source": [
    "# runs in Chameleon Jupyter environment\n",
    "\n",
    "cd ~/Fine-Tuning-Taiwanese-Hokkien-LLM-for-Medical-Advising/iac/ansible"
   ]
  },
  {
   "cell_type": "code",
   "execution_count": null,
   "metadata": {
    "tags": []
   },
   "outputs": [],
   "source": [
    "mkdir -p ~/.ssh\n",
    "mv ~/work/mlops/id_rsa_chameleon ~/.ssh/\n",
    "chmod 600 ~/.ssh/id_rsa_chameleon\n",
    "scp ~/.ssh/id_rsa_chameleon cc@192.5.87.178:/home/cc/.ssh/id_rsa_chameleon"
   ]
  },
  {
   "cell_type": "code",
   "execution_count": null,
   "metadata": {},
   "outputs": [],
   "source": [
    "# go to node1\n",
    "\n",
    "nano ~/.ssh/config\n",
    "\n",
    "#paste\n",
    "Host node1\n",
    "    HostName 192.5.87.50\n",
    "    User cc\n",
    "    IdentityFile /home/yc7690_nyu_edu/.ssh/id_rsa_chameleon\n",
    "    StrictHostKeyChecking no\n",
    "    UserKnownHostsFile=/dev/null\n",
    "    ControlMaster auto\n",
    "    ControlPersist 120s\n",
    "    ControlPath ~/.ssh/ansible-%r@%h:%p\n",
    "Host node2\n",
    "    HostName 192.168.1.12\n",
    "    User cc\n",
    "    IdentityFile /home/yc7690_nyu_edu/.ssh/id_rsa_chameleon\n",
    "    ProxyCommand ssh -i /home/yc7690_nyu_edu/.ssh/id_rsa_chameleon -W %h:%p cc@192.5.87.148\n",
    "    StrictHostKeyChecking no\n",
    "    UserKnownHostsFile=/dev/null\n",
    "    ControlMaster auto\n",
    "    ControlPersist 120s\n",
    "    ControlPath ~/.ssh/ansible-%r@%h:%p\n",
    "Host node3\n",
    "    HostName 192.168.1.13\n",
    "    User cc\n",
    "    IdentityFile /home/yc7690_nyu_edu/.ssh/id_rsa_chameleon\n",
    "    ProxyCommand ssh -i /home/yc7690_nyu_edu/.ssh/id_rsa_chameleon -W %h:%p cc@192.5.87.148\n",
    "    StrictHostKeyChecking no\n",
    "    UserKnownHostsFile=/dev/null\n",
    "    ControlMaster auto\n",
    "    ControlPersist 120s\n",
    "    ControlPath ~/.ssh/ansible-%r@%h:%p"
   ]
  },
  {
   "cell_type": "code",
   "execution_count": null,
   "metadata": {},
   "outputs": [],
   "source": [
    "# go to node1\n",
    "\n",
    "ssh-keygen -y -f ~/.ssh/id_rsa_chameleon > ~/.ssh/id_rsa_chameleon.pub"
   ]
  },
  {
   "cell_type": "code",
   "execution_count": null,
   "metadata": {},
   "outputs": [],
   "source": [
    "# go to node1\n",
    "\n",
    "sudo nano /etc/ssh/sshd_config\n",
    "#uncomment\n",
    "AllowAgentForwarding yes\n",
    "MaxStartups 30:50:200"
   ]
  },
  {
   "cell_type": "code",
   "execution_count": null,
   "metadata": {},
   "outputs": [],
   "source": [
    "# go to node1\n",
    "\n",
    "sudo systemctl restart ssh\n",
    "ssh-copy-id -i ~/.ssh/id_rsa_chameleon.pub cc@192.168.1.12\n",
    "ssh-copy-id -i ~/.ssh/id_rsa_chameleon.pub cc@192.168.1.13"
   ]
  },
  {
   "cell_type": "code",
   "execution_count": null,
   "metadata": {},
   "outputs": [],
   "source": [
    "# in terminal, test\n",
    "ssh -i ~/.ssh/id_rsa_chameleon cc@192.5.87.178"
   ]
  },
  {
   "cell_type": "markdown",
   "metadata": {},
   "source": [
    "### Verify connectivity\n",
    "\n",
    "First, we’ll run a simple task to check connectivity with all hosts listed in the [`inventory.yml` file](https://github.com/teaching-on-testbeds/gourmetgram-iac/blob/main/ansible/inventory.yml):\n",
    "\n",
    "    all:\n",
    "      vars:\n",
    "        ansible_python_interpreter: /usr/bin/python3\n",
    "      hosts:\n",
    "        node1:\n",
    "          ansible_host: 192.168.1.11\n",
    "          ansible_user: cc\n",
    "        node2:\n",
    "          ansible_host: 192.168.1.12\n",
    "          ansible_user: cc\n",
    "        node3:\n",
    "          ansible_host: 192.168.1.13\n",
    "          ansible_user: cc\n",
    "\n",
    "It uses the `ping` module, which checks if Ansible can connect to each host via SSH and run Python code there."
   ]
  },
  {
   "cell_type": "code",
   "execution_count": 6,
   "metadata": {
    "tags": []
   },
   "outputs": [],
   "source": [
    "# scp -i ~/.ssh/id_rsa_chameleon \\\n",
    "#     -r ~/Fine-Tuning-Taiwanese-Hokkien-LLM-for-Medical-Advising/iac/ansible \\\n",
    "#     cc@192.5.87.148:/home/cc/"
   ]
  },
  {
   "cell_type": "code",
   "execution_count": null,
   "metadata": {
    "tags": []
   },
   "outputs": [
    {
     "name": "stdout",
     "output_type": "stream",
     "text": [
      "id_rsa_chameleon                              100% 2700    76.2KB/s   00:00    \n"
     ]
    }
   ],
   "source": [
    "# scp ~/.ssh/id_rsa_chameleon cc@192.5.87.178:/home/cc/.ssh/id_rsa_chameleon"
   ]
  },
  {
   "cell_type": "code",
   "execution_count": 8,
   "metadata": {
    "tags": []
   },
   "outputs": [
    {
     "name": "stdout",
     "output_type": "stream",
     "text": [
      "\n",
      "/usr/bin/ssh-copy-id: ERROR: failed to open ID file '/home/yc7690_nyu_edu/.ssh/id_rsa_chameleon.pub': No such file\n"
     ]
    },
    {
     "ename": "",
     "evalue": "1",
     "output_type": "error",
     "traceback": []
    }
   ],
   "source": [
    "# ssh-copy-id -i ~/.ssh/id_rsa_chameleon.pub cc@192.168.1.12"
   ]
  },
  {
   "cell_type": "code",
   "execution_count": 8,
   "metadata": {
    "tags": []
   },
   "outputs": [
    {
     "name": "stdout",
     "output_type": "stream",
     "text": [
      "node1 | SUCCESS => {\n",
      "    \"changed\": false,\n",
      "    \"ping\": \"pong\"\n",
      "}\n",
      "node3 | SUCCESS => {\n",
      "    \"changed\": false,\n",
      "    \"ping\": \"pong\"\n",
      "}\n",
      "node2 | SUCCESS => {\n",
      "    \"changed\": false,\n",
      "    \"ping\": \"pong\"\n",
      "}\n"
     ]
    }
   ],
   "source": [
    "# runs in Chameleon Jupyter environment\n",
    "ansible -i inventory.yml all -m ping"
   ]
  },
  {
   "cell_type": "code",
   "execution_count": 9,
   "metadata": {
    "tags": []
   },
   "outputs": [],
   "source": [
    "# ansible -i inventory.yml node3 -m ping -vvvv"
   ]
  },
  {
   "cell_type": "markdown",
   "metadata": {},
   "source": [
    "### Run a “Hello, World” playbook\n",
    "\n",
    "Once we have verified connectivity to the nodes in our “inventory”, we can run a *playbook*, which is a sequence of tasks organized in plays, and defined in a YAML file. Here we will run the following playbook with one “Hello world” play:\n",
    "\n",
    "    ---\n",
    "    - name: Hello, world - use Ansible to run a command on each host\n",
    "      hosts: all\n",
    "      gather_facts: no\n",
    "\n",
    "      tasks:\n",
    "        - name: Run hostname command\n",
    "          command: hostname\n",
    "          register: hostname_output\n",
    "\n",
    "        - name: Show hostname output\n",
    "          debug:\n",
    "            msg: \"The hostname of {{ inventory_hostname }} is {{ hostname_output.stdout }}\"\n",
    "\n",
    "The playbook connects to `all` hosts listed in the inventory, and performs two tasks: first, it runs the `hostname` command on each host and saves the result in `hostname_output`, then it prints a message showing the value of `hostname_output` (using the *debug* module)."
   ]
  },
  {
   "cell_type": "code",
   "execution_count": 10,
   "metadata": {
    "tags": []
   },
   "outputs": [
    {
     "name": "stdout",
     "output_type": "stream",
     "text": [
      "\n",
      "PLAY [Hello, world - use Ansible to run a command on each host] ****************\n",
      "\n",
      "TASK [Run hostname command] ****************************************************\n",
      "changed: [node1]\n",
      "changed: [node2]\n",
      "changed: [node3]\n",
      "\n",
      "TASK [Show hostname output] ****************************************************\n",
      "ok: [node1] => \n",
      "  msg: The hostname of node1 is node1-mlops\n",
      "ok: [node2] => \n",
      "  msg: The hostname of node2 is node2-mlops\n",
      "ok: [node3] => \n",
      "  msg: The hostname of node3 is node3-mlops\n",
      "\n",
      "PLAY RECAP *********************************************************************\n",
      "node1                      : ok=2    changed=1    unreachable=0    failed=0    skipped=0    rescued=0    ignored=0   \n",
      "node2                      : ok=2    changed=1    unreachable=0    failed=0    skipped=0    rescued=0    ignored=0   \n",
      "node3                      : ok=2    changed=1    unreachable=0    failed=0    skipped=0    rescued=0    ignored=0   \n",
      "\n"
     ]
    }
   ],
   "source": [
    "# runs in Chameleon Jupyter environment\n",
    "ansible-playbook -i inventory.yml general/hello_host.yml"
   ]
  },
  {
   "cell_type": "code",
   "execution_count": null,
   "metadata": {},
   "outputs": [],
   "source": []
  }
 ],
 "metadata": {
  "kernelspec": {
   "display_name": "Bash",
   "language": "bash",
   "name": "bash"
  },
  "language_info": {
   "codemirror_mode": "shell",
   "file_extension": ".sh",
   "mimetype": "text/x-sh",
   "name": "bash"
  }
 },
 "nbformat": 4,
 "nbformat_minor": 4
}
