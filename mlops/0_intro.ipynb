{
 "cells": [
  {
   "cell_type": "markdown",
   "metadata": {},
   "source": [
    "# Build an MLOps Pipeline\n",
    "\n",
    "In [Cloud Computing on Chameleon](https://teaching-on-testbeds.github.io/cloud-chi/), following the premise:\n",
    "\n",
    "> You are working at a machine learning engineer at a small startup company called GourmetGram. They are developing an online photo sharing community focused on food. You are testing a new model you have developed that automatically classifies photos of food into one of a set of categories: Bread, Dairy product, Dessert, Egg, Fried food, Meat, Noodles/Pasta, Rice, Seafood, Soup, and Vegetable/Fruit. You have built a simple web application with which to test your model and get feedback from others.\n",
    "\n",
    "we deployed a basic machine learning service to an OpenStack cloud. However, that deployment involved a lot of manual steps (“ClickOps”), and any updates to it would similarly involve lots of manual effort, be difficult to track, etc.\n",
    "\n",
    "In this tutorial, we will learn how to automate both the initial deployment, and updates during the lifecycle of the application. We will:\n",
    "\n",
    "-   practice deploying systems following infrastructure-as-code and configuration-as-code principles using automated deployment tools\n",
    "-   and create an automated pipeline to manage a machine learning model through its lifecycle\n",
    "\n",
    "Our experiment will use the following automated deployment and lifecycle management tools:\n",
    "\n",
    "-   Terraform: A declarative Infrastructure as Code (IaC) tool used to provision and manage cloud infrastructure (servers, networks, etc.) by defining the desired end state in configuration files. Here, we use it to provision our infrastructure.\n",
    "-   Ansible: An imperative Configuration as Code (CaC) tool that automates system configuration, software installation, and application deployment through task-based YAML playbooks describing the steps to achieve a desired setup. Here, we use it to install Kubernetes and the Argo tools on our infrastructure after it is provisioned\n",
    "-   Argo CD: A declarative GitOps continuous delivery tool for Kubernetes that automatically syncs and deploys applications based on the desired state stored in Git repositories.\n",
    "-   Argo Workflows: A Kubernetes-native workflow engine where you define workflows, which execute tasks inside containers to run pipelines, jobs, or automation processes.\n",
    "\n",
    "**Note**: that we use Argo CD and Argo Workflows, which are tightly integrated with Kubernetes, because we are working in the context of a Kubernetes deployment. If our service was not deployed in Kubernetes (for example: it was deployed using “plain” Docker containers without a container orchestration framework), we would use other tools for managing the application and model lifecycle.\n",
    "\n",
    "To run this experiment, you should have already created an account on Chameleon, and become part of a project. You should also have added your SSH key to the KVM@TACC site."
   ]
  },
  {
   "cell_type": "markdown",
   "metadata": {},
   "source": [
    "## Experiment topology\n",
    "\n",
    "In this experiment, we will deploy a 3-node Kubernetes cluster on Chameleon instances. The Kubernetes cluster will be self-managed, which means that the infrastructure provider is not responsbile for setting up and maintaining our cluster; *we* are.\n",
    "\n",
    "However, the cloud infrastructure provider will provide the compute resources and network resources that we need. We will provision the following resources for this experiment:\n",
    "\n",
    "<figure>\n",
    "<img src=\"images/lab-topology.svg\" alt=\"Experiment topology.\" />\n",
    "<figcaption aria-hidden=\"true\">Experiment topology.</figcaption>\n",
    "</figure>"
   ]
  },
  {
   "cell_type": "code",
   "execution_count": null,
   "metadata": {},
   "outputs": [],
   "source": [
    "from chi import context\n",
    "import os\n",
    "\n",
    "context.version = \"1.0\" \n",
    "context.choose_project()\n",
    "context.choose_site(default=\"CHI@UC\")"
   ]
  },
  {
   "cell_type": "code",
   "execution_count": null,
   "metadata": {},
   "outputs": [],
   "source": [
    "from chi import lease\n",
    "\n",
    "lease_names = {\n",
    "    \"node1\": \"compute_gigaio_project46_1\",\n",
    "    \"node2\": \"compute_gigaio_project46_2\",\n",
    "    \"node3\": \"compute_gigaio_project46_3\"\n",
    "}\n",
    "\n",
    "reservation_map = {\n",
    "    name: lease.get_lease(lease_name).node_reservations[0][\"id\"]\n",
    "    for name, lease_name in lease_names.items()\n",
    "}\n",
    "# node_hostnames = {\n",
    "#     name: lease.get_lease(lease_name).nodes[0][\"name\"] + \".chameleoncloud.org\"\n",
    "#     for name, lease_name in lease_names.items()\n",
    "# }\n",
    "for name, lease_name in lease_names.items():\n",
    "    print(lease.get_lease(lease_name).node_reservations[0][\"id\"])"
   ]
  },
  {
   "cell_type": "code",
   "execution_count": null,
   "metadata": {
    "vscode": {
     "languageId": "bash"
    }
   },
   "outputs": [],
   "source": [
    "cd ~/Fine-Tuning-Taiwanese-Hokkien-LLM-for-Medical-Advising/iac/tf/chi "
   ]
  },
  {
   "cell_type": "code",
   "execution_count": null,
   "metadata": {},
   "outputs": [],
   "source": [
    "import json\n",
    "\n",
    "with open(\"outputs.json\") as f:\n",
    "    out = json.load(f)\n",
    "    sharednet1_ports = {\n",
    "        \"node1\": out[\"sharednet1_ports\"][\"value\"][\"node1\"],\n",
    "        \"node2\": out[\"sharednet1_ports\"][\"value\"][\"node2\"],\n",
    "        \"node3\": out[\"sharednet1_ports\"][\"value\"][\"node3\"],\n",
    "    }\n",
    "    private_net_ports = {\n",
    "        \"node1\": out[\"private_net_ports\"][\"value\"][\"node1\"],\n",
    "        \"node2\": out[\"private_net_ports\"][\"value\"][\"node2\"],\n",
    "        \"node3\": out[\"private_net_ports\"][\"value\"][\"node3\"],\n",
    "    }"
   ]
  },
  {
   "cell_type": "code",
   "execution_count": null,
   "metadata": {},
   "outputs": [],
   "source": [
    "# Create servers\n",
    "conn = connection.from_config(cloud=\"openstack\")\n",
    "for node in [\"node1\", \"node2\", \"node3\"]:\n",
    "    print(f\"Creating {node}...\")\n",
    "    server = conn.create_server(\n",
    "        name=f\"{node}-mlops\",\n",
    "        image='CC-Ubuntu24.04-CUDA',\n",
    "        flavor='baremetal',\n",
    "        key_name='id_rsa_chameleon',\n",
    "        nics=[\n",
    "            {\"port-id\": sharednet1_ports[node]},\n",
    "            {\"port-id\": private_net_ports[node]}\n",
    "        ],\n",
    "        scheduler_hints={\"reservation\": reservation_map[node]},\n",
    "        wait=False,\n",
    "        auto_ip=False,\n",
    "        user_data = f\"\"\"#!/bin/bash\n",
    "echo '127.0.1.1 {node}-mlops' >> /etc/hosts\n",
    "su cc -c /usr/local/bin/cc-load-public-keys\n",
    "\"\"\"\n",
    "    )\n",
    "    print(f\"{node} server created: {server.id}\")\n"
   ]
  },
  {
   "cell_type": "code",
   "execution_count": null,
   "metadata": {},
   "outputs": [],
   "source": [
    "server = conn.get_server(\"5be2ea48-c794-42a1-ab8a-df473bb5bcc2\")\n",
    "print(server.status)"
   ]
  },
  {
   "cell_type": "markdown",
   "metadata": {},
   "source": [
    "## Provision a key\n",
    "\n",
    "Before you begin, open this experiment on Trovi:\n",
    "\n",
    "-   Use this link: [MLOps Pipeline](https://chameleoncloud.org/experiment/share/1eb302de-4707-4ae9-ae2d-391b9b8e5261) on Trovi\n",
    "-   Then, click “Launch on Chameleon”. This will start a new Jupyter server for you, with the experiment materials already in it.\n",
    "\n",
    "You will see several notebooks inside the `mlops-chi` directory - look for the one titled `0_intro.ipynb`. Open this notebook and execute the following cell (and make sure the correct project is selected):"
   ]
  },
  {
   "cell_type": "markdown",
   "metadata": {},
   "source": [
    "Then, you may continue following along at [Build an MLOps Pipeline](https://teaching-on-testbeds.github.io/mlops-chi/)."
   ]
  }
 ],
 "metadata": {
  "kernelspec": {
   "display_name": "Python 3 (ipykernel)",
   "language": "python",
   "name": "python3"
  },
  "language_info": {
   "codemirror_mode": {
    "name": "ipython",
    "version": "3"
   },
   "file_extension": ".py",
   "mimetype": "text/x-python",
   "name": "python"
  }
 },
 "nbformat": 4,
 "nbformat_minor": 4
}
