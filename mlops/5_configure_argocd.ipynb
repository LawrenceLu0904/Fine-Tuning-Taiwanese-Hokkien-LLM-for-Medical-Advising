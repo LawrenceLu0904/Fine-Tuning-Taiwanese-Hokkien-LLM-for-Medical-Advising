{
 "cells": [
  {
   "cell_type": "markdown",
   "metadata": {},
   "source": [
    "## Use ArgoCD to manage applications on the Kubernetes cluster\n",
    "\n",
    "With our Kubernetes cluster up and running, we are ready to deploy applications on it!\n",
    "\n",
    "We are going to use ArgoCD to manage applications on our cluster. ArgoCD monitors “applications” that are defined as Kubernetes manifests in Git repositories. When the application manifest changes (for example, if we increase the number of replicas, change a container image to a different version, or give a pod more memory), ArgoCD will automatically apply these changes to our deployment.\n",
    "\n",
    "Although ArgoCD itself will manage the application lifecycle once started, we are going to use Ansible as a configuration tool to set up our applications in ArgoCD in the first place. So, in this notebook we run a series of Ansible playbooks to set up ArgoCD applications.\n",
    "\n",
    "<figure>\n",
    "<img src=\"images/step3-argocd.svg\" alt=\"Using ArgoCD for apps and services.\" />\n",
    "<figcaption aria-hidden=\"true\">Using ArgoCD for apps and services.</figcaption>\n",
    "</figure>"
   ]
  },
  {
   "cell_type": "code",
   "execution_count": null,
   "metadata": {},
   "outputs": [],
   "source": [
    "# runs in Chameleon Jupyter environment\n",
    "# export PATH=/work/.local/bin:$PATH\n",
    "# export PYTHONUSERBASE=/work/.local\n",
    "# export ANSIBLE_CONFIG=/work/gourmetgram-iac/ansible/ansible.cfg\n",
    "# export ANSIBLE_ROLES_PATH=roles\n",
    "\n",
    "\n",
    "export PATH=$HOME/.local/bin:$PATH\n",
    "export PYTHONUSERBASE=$HOME/.local\n",
    "export ANSIBLE_CONFIG=$HOME/gourmetgram-iac/ansible/ansible.cfg\n",
    "export ANSIBLE_ROLES_PATH=roles"
   ]
  },
  {
   "cell_type": "markdown",
   "metadata": {},
   "source": [
    "First, we will deploy our GourmetGram “platform”. This has all the “accessory” services we need to support our machine learning application.\n",
    "\n",
    "In our example, it has a model registry (MLFlow), a database (Postgres), and an object store (MinIO) for storing model artifacts; more generally it may include experiment tracking, evaluation and monitoring, and other related services."
   ]
  },
  {
   "cell_type": "markdown",
   "metadata": {},
   "source": [
    "There are a couple of “complications” we need to manage as part of this deployment:\n",
    "\n",
    "**Dynamic environment-specific customization**: as in [Cloud Computing on Chameleon](https://teaching-on-testbeds.github.io/cloud-chi/), we want to specify the `externalIPs` on which our `ClusterIP` services should be available. However, we only know the IP address of the “head” node on the Internet-facing network after the infrastructure is deployed.\n",
    "\n",
    "Furthermore, Argo CD gets our service definitions from a Git repository, and we don’t want to modify the `externalIPs` in GitHub each time we deploy our services.\n",
    "\n",
    "To address this, we deploy our services using Helm, a tool that automates the creation, packaging, configuration, and deployment of Kubernetes applications. With Helm, we can include something like this in our Kubernetes manifest/Helm chart:\n",
    "\n",
    "      externalIPs:\n",
    "        - {{ .Values.minio.externalIP }}\n",
    "\n",
    "and then when we add the application to ArgoCD, we pass the value that should be filled in there:\n",
    "\n",
    "            --helm-set-string minio.externalIP={{ external_ip }} \n",
    "\n",
    "where Ansible finds out the value of `external_ip` for us in a separate task:\n",
    "\n",
    "        - name: Detect external IP starting with 10.56\n",
    "          set_fact:\n",
    "            external_ip: \"{{ ansible_all_ipv4_addresses | select('match', '^10\\\\.56\\\\..*') | list | first }}\"\n",
    "\n",
    "This general pattern:\n",
    "\n",
    "-   find out an environment-specific setting using Ansible\n",
    "-   use it to customize the Kubernetes deploymenet using Helm or ArgoCD + Helm\n",
    "\n",
    "can be applied to a wide variety of environment-specific configurations. It can also be used anything that shouldn’t be included in a Git repository. For example: if your deployment needs a secret application credential, you can store in a separate `.env` file that is available to your Ansible client (not in a Git repository), get Ansible to read it into a variable, and then use ArgoCD + Helm to substitute that secret where needed in your Kubernetes application definition.\n",
    "\n",
    "**Deployment with secrets**: our deployment includes some services that require authentication, e.g. the MinIO object store. We don’t want to include passwords or other secrets in our Git repository, either! To address this, we will have Ansible generate a secret password and register it with Kubernetes (and print it, so we ourselves can access the MinIO dashboard!):\n",
    "\n",
    "    - name: Generate MinIO secret key\n",
    "        when: minio_secret_check.rc != 0\n",
    "        set_fact:\n",
    "        minio_secret_key: \"{{ lookup('password', '/dev/null length=20 chars=ascii_letters,digits') }}\"\n",
    "\n",
    "    - name: Create MinIO credentials secret\n",
    "        when: minio_secret_check.rc != 0\n",
    "        command: >\n",
    "        kubectl create secret generic minio-credentials\n",
    "        --namespace gourmetgram-platform\n",
    "        --from-literal=accesskey={{ minio_access_key }}\n",
    "        --from-literal=secretkey={{ minio_secret_key }}\n",
    "        register: minio_secret_create\n",
    "\n",
    "and then in our Kubernetes manifests, we can use this secret without explicitly specifying its value, e.g.:\n",
    "\n",
    "    env:\n",
    "    - name: MINIO_ROOT_USER\n",
    "        valueFrom:\n",
    "        secretKeyRef:\n",
    "            name: minio-credentials\n",
    "            key: accesskey\n",
    "    - name: MINIO_ROOT_PASSWORD\n",
    "        valueFrom:\n",
    "        secretKeyRef:\n",
    "            name: minio-credentials\n",
    "            key: secretkey\n",
    "\n",
    "This general pattern can similarly be applied more broadly to any applications and services that require a secret."
   ]
  },
  {
   "cell_type": "markdown",
   "metadata": {},
   "source": [
    "Let’s add the gourmetgram-platform application now. In the output of the following cell, look for the MinIO secret, which will be generated and then printed in the output:"
   ]
  },
  {
   "cell_type": "code",
   "execution_count": null,
   "metadata": {},
   "outputs": [],
   "source": [
    "# runs in Chameleon Jupyter environment\n",
    "cd $HOME/gourmetgram-iac/ansible\n",
    "ansible-playbook -i inventory.yml argocd/argocd_add_platform.yml\n",
    "\n",
    "cd $HOME/gourmetgram-iac/ansible\n",
    "ansible-playbook -i inventory.yml argocd/argocd_add_platform.yml"
   ]
  },
  {
   "cell_type": "markdown",
   "metadata": {},
   "source": [
    "Once the platform is deployed, we can open:\n",
    "\n",
    "-   MinIO object store on `http://A.B.C.D:9001` (substitute your own floating IP) - log in with the access key and secret printed by the playbook above. Our model artifacts will be stored here once we start generating them.\n",
    "-   MLFlow model registry on `http://A.B.C.D:8000` (substitute your own floating IP), and click on the “Models” tab.\n",
    "\n",
    "We haven’t “trained” any model yet, but when we do, they will appear here."
   ]
  },
  {
   "cell_type": "markdown",
   "metadata": {},
   "source": [
    "Next, we need to deploy the GourmetGram application. Before we do, we need to build a container image. We will run a one-time workflow in Argo Workflows to build the initial container images for the “staging”, “canary”, and “production” environments:"
   ]
  },
  {
   "cell_type": "code",
   "execution_count": null,
   "metadata": {},
   "outputs": [],
   "source": [
    "# runs in Chameleon Jupyter environment\n",
    "# cd /work/gourmetgram-iac/ansible\n",
    "# ansible-playbook -i inventory.yml argocd/workflow_build_init.yml\n",
    "\n",
    "cd /work/gourmetgram-iac/ansible\n",
    "ansible-playbook -i inventory.yml argocd/workflow_build_init.yml"
   ]
  },
  {
   "cell_type": "markdown",
   "metadata": {},
   "source": [
    "You can see the workflow YAML [here](https://github.com/teaching-on-testbeds/gourmetgram-iac/blob/main/workflows/build-initial.yaml), and follow along in the Argo Workflows dashboard as it runs."
   ]
  },
  {
   "cell_type": "markdown",
   "metadata": {},
   "source": [
    "Now that we have a container image, we can deploy our application -"
   ]
  },
  {
   "cell_type": "code",
   "execution_count": null,
   "metadata": {},
   "outputs": [],
   "source": [
    "# runs in Chameleon Jupyter environment\n",
    "# cd /work/gourmetgram-iac/ansible\n",
    "# ansible-playbook -i inventory.yml argocd/argocd_add_staging.yml\n",
    "\n",
    "cd $HOME/gourmetgram-iac/ansible\n",
    "ansible-playbook -i inventory.yml argocd/argocd_add_staging.yml"
   ]
  },
  {
   "cell_type": "code",
   "execution_count": null,
   "metadata": {},
   "outputs": [],
   "source": [
    "# runs in Chameleon Jupyter environment\n",
    "# cd /work/gourmetgram-iac/ansible\n",
    "# ansible-playbook -i inventory.yml argocd/argocd_add_canary.yml\n",
    "\n",
    "cd $HOME/gourmetgram-iac/ansible\n",
    "ansible-playbook -i inventory.yml argocd/argocd_add_canary.yml"
   ]
  },
  {
   "cell_type": "code",
   "execution_count": null,
   "metadata": {},
   "outputs": [],
   "source": [
    "# runs in Chameleon Jupyter environment\n",
    "# cd /work/gourmetgram-iac/ansible\n",
    "# ansible-playbook -i inventory.yml argocd/argocd_add_prod.yml\n",
    "\n",
    "cd $HOME/gourmetgram-iac/ansible\n",
    "ansible-playbook -i inventory.yml argocd/argocd_add_prod.yml"
   ]
  },
  {
   "cell_type": "markdown",
   "metadata": {},
   "source": [
    "Test your staging, canary, and production deployments - we have put them on different ports. For now, they are all running exactly the same model!\n",
    "\n",
    "-   Visit `http://A.B.C.D:8081` (substituting the value of your floating IP) to test the staging service\n",
    "-   Visit `http://A.B.C.D:8080` (substituting the value of your floating IP) to test the canary service\n",
    "-   Visit `http://A.B.C.D` (substituting the value of your floating IP) to test the production service"
   ]
  },
  {
   "cell_type": "markdown",
   "metadata": {},
   "source": [
    "At this point, you can also revisit the dashboards you opened earlier:\n",
    "\n",
    "-   In the Kubernetes dashboard, you can switch between namespaces to see the different applications that we have deployed.\n",
    "-   On the ArgoCD dashboard, you can see the four applications that ArgoCD is managing, and their sync status.\n",
    "\n",
    "Take a screenshot of the ArgoCD dashboard for your reference."
   ]
  },
  {
   "cell_type": "markdown",
   "metadata": {},
   "source": [
    "In the next section, we will manage our application lifecycle with Argo Worfklows. To help with that, we’ll apply some workflow templates from Ansible, so that they are ready to go in the Argo Workflows UI:"
   ]
  },
  {
   "cell_type": "code",
   "execution_count": null,
   "metadata": {},
   "outputs": [],
   "source": [
    "# runs in Chameleon Jupyter environment\n",
    "# cd /work/gourmetgram-iac/ansible\n",
    "# ansible-playbook -i inventory.yml argocd/workflow_templates_apply.yml\n",
    "\n",
    "cd $HOME/gourmetgram-iac/ansible\n",
    "ansible-playbook -i inventory.yml argocd/workflow_templates_apply.yml"
   ]
  },
  {
   "cell_type": "markdown",
   "metadata": {},
   "source": [
    "Now, Argo will manage the lifecycle from here on out:\n",
    "\n",
    "<figure>\n",
    "<img src=\"images/step4-lifecycle.svg\" alt=\"Using ArgoCD for apps and services.\" />\n",
    "<figcaption aria-hidden=\"true\">Using ArgoCD for apps and services.</figcaption>\n",
    "</figure>"
   ]
  }
 ],
 "metadata": {
  "kernelspec": {
   "display_name": "Bash",
   "language": "bash",
   "name": "bash"
  },
  "language_info": {
   "codemirror_mode": "shell",
   "file_extension": ".sh",
   "mimetype": "shell",
   "name": "bash"
  }
 },
 "nbformat": 4,
 "nbformat_minor": 4
}
