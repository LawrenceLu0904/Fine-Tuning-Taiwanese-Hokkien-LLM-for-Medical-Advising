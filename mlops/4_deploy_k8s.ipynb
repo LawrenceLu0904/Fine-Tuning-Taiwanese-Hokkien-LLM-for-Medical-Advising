{
 "cells": [
  {
   "cell_type": "markdown",
   "metadata": {},
   "source": [
    "## Deploy Kubernetes using Ansible\n",
    "\n",
    "Now that we understand a little bit about how Ansible works, we will use it to deploy Kubernetes on our three-node cluster!\n",
    "\n",
    "We will use Kubespray, an Ansible-based tool, to automate this deployment.\n",
    "\n",
    "<figure>\n",
    "<img src=\"images/step2-ansible.svg\" alt=\"Using Ansible for software installation and system configuration.\" />\n",
    "<figcaption aria-hidden=\"true\">Using Ansible for software installation and system configuration.</figcaption>\n",
    "</figure>"
   ]
  },
  {
   "cell_type": "markdown",
   "metadata": {},
   "source": [
    "### Preliminaries"
   ]
  },
  {
   "cell_type": "markdown",
   "metadata": {},
   "source": [
    "As before, let’s make sure we’ll be able to use the Ansible executables. We need to put the install directory in the `PATH` inside each new Bash session."
   ]
  },
  {
   "cell_type": "code",
   "execution_count": null,
   "metadata": {},
   "outputs": [],
   "source": [
    "# runs in Chameleon Jupyter environment\n",
    "# export PATH=/work/.local/bin:$PATH\n",
    "# export PYTHONUSERBASE=/work/.local\n",
    "\n",
    "export PATH=$HOME/.local/bin:$PATH\n",
    "export PYTHONUSERBASE=$HOME/.local"
   ]
  },
  {
   "cell_type": "markdown",
   "metadata": {},
   "source": [
    "### Run a preliminary playbook\n",
    "\n",
    "Before we set up Kubernetes, we will run a preliminary playbook to:\n",
    "\n",
    "-   disable the host firewall on the nodes in the cluster. (The cloud infrastructure provider will anyway block all traffic except for SSH traffic on port 22, as we specified in the security group configuration.) We will also configure each node to permit the local container registry.\n",
    "-   and, configure Docker to use the local registry. (We prefer to do this before deploying Kubernetes, to avoid restarting Docker when there is a live Kubernetes deployment using it already…)"
   ]
  },
  {
   "cell_type": "code",
   "execution_count": null,
   "metadata": {},
   "outputs": [],
   "source": [
    "# runs in Chameleon Jupyter environment\n",
    "# cd /work/gourmetgram-iac/ansible\n",
    "# ansible-playbook -i inventory.yml pre_k8s/pre_k8s_configure.yml\n",
    "\n",
    "cd ~/Fine-Tuning-Taiwanese-Hokkien-LLM-for-Medical-Advising/iac/ansible\n",
    "ansible-playbook -i inventory.yml pre_k8s/pre_k8s_configure.yml"
   ]
  },
  {
   "cell_type": "markdown",
   "metadata": {},
   "source": [
    "### Run the Kubespray play\n",
    "\n",
    "Then, we can run the Kubespray playbook! Inside the `ansible/k8s` subdirectory:\n",
    "\n",
    "-   we have a “copy” of Kubespray as a submodule\n",
    "-   and we have a minimal `inventory` directory, which describes the specific Kubespray configuration for our cluster\n",
    "\n",
    "The following cell will run for a long time, and install Kubernetes on the three-node cluster.\n",
    "\n",
    "When it is finished the “PLAY RECAP” should indicate that none of the tasks failed."
   ]
  },
  {
   "cell_type": "code",
   "execution_count": null,
   "metadata": {},
   "outputs": [],
   "source": [
    "# runs in Chameleon Jupyter environment\n",
    "# export ANSIBLE_CONFIG=/work/gourmetgram-iac/ansible/ansible.cfg\n",
    "# export ANSIBLE_ROLES_PATH=roles\n",
    "\n",
    "export ANSIBLE_CONFIG=$HOME/gourmetgram-iac/ansible/ansible.cfg\n",
    "export ANSIBLE_ROLES_PATH=roles"
   ]
  },
  {
   "cell_type": "code",
   "execution_count": null,
   "metadata": {},
   "outputs": [],
   "source": [
    "# runs in Chameleon Jupyter environment\n",
    "# cd /work/gourmetgram-iac/ansible/k8s/kubespray\n",
    "# ansible-playbook -i ../inventory/mycluster --become --become-user=root ./cluster.yml\n",
    "\n",
    "\n",
    "cd $HOME/gourmetgram-iac/ansible/k8s/kubespray\n",
    "ansible-playbook -i ../inventory/mycluster --become --become-user=root ./cluster.yml"
   ]
  },
  {
   "cell_type": "markdown",
   "metadata": {},
   "source": [
    "### Run a post-install playbook\n",
    "\n",
    "After our Kubernetes install is complete, we run some additional tasks to further configure and customize our Kubernetes deployment. Our post-install playbook will:\n",
    "\n",
    "-   Configure the `kubectl` command so that we can run it directly on “node1” as the `cc` user, and allow the `cc` user to run Docker commands.\n",
    "-   Configure the Kubernetes dashboard, which we can use to monitor our cluster.\n",
    "-   Install [ArgoCD](https://argo-cd.readthedocs.io/en/stable/), [Argo Workflows](https://argoproj.github.io/workflows/), and [Argo Events](https://argoproj.github.io/events/). We will use Argo CD for application and service bootstrapping, and Argo Events/Workflows for application lifecycle management on our Kubernetes cluster.\n",
    "\n",
    "In the output below, make a note of the Kubernetes dashboard token and the Argo admin password, both of which we will need in the next steps."
   ]
  },
  {
   "cell_type": "code",
   "execution_count": null,
   "metadata": {},
   "outputs": [],
   "source": [
    "# runs in Chameleon Jupyter environment\n",
    "# cd /work/gourmetgram-iac/ansible\n",
    "# ansible-playbook -i inventory.yml post_k8s/post_k8s_configure.yml\n",
    "\n",
    "cd $HOME/gourmetgram-iac/ansible\n",
    "ansible-playbook -i inventory.yml post_k8s/post_k8s_configure.yml"
   ]
  },
  {
   "cell_type": "markdown",
   "metadata": {},
   "source": [
    "### Access the Kubernetes dashboard (optional)\n",
    "\n",
    "To check on our Kubernetes deployment, let’s keep an eye on the dashboard.\n",
    "\n",
    "First, since we did not configure security group rules to permit any ports besides SSH, we need to use SSH port forwarding to open a tunnel between our *local* device and the remote cluster. Then, since the service is configured only for internal access within the cluster, we need to use port forwarding to also make it available on the host.\n",
    "\n",
    "Run the command below in your *local* terminal (not the terminal in the Chameleon Jupyter environment!) and substitute:\n",
    "\n",
    "-   in place of `~/.ssh/id_rsa_chameleon`, the path to your own key\n",
    "-   in place of `A.B.C.D`, the floating IP assigned to your “node1” instance\n",
    "\n",
    "``` bash\n",
    "# runs in your **local** terminal\n",
    "ssh -L 8443:127.0.0.1:8443 -i ~/.ssh/id_rsa_chameleon cc@A.B.C.D\n",
    "```\n",
    "\n",
    "then, inside that terminal, run\n",
    "\n",
    "``` bash\n",
    "# runs on node1 \n",
    "kubectl port-forward -n kube-system svc/kubernetes-dashboard 8443:443\n",
    "```\n",
    "\n",
    "and leave it running.\n",
    "\n",
    "Now, in a browser, you may open\n",
    "\n",
    "    https://127.0.0.1:8443/\n",
    "\n",
    "You will see a warning about an invalid certificate, which you may override and choose the “Advanced” option to proceed. Then, you will be prompted to log in.\n",
    "\n",
    "From the output of the post-install playbook above, find the “Dashboard token” and paste it into the token space, then log in. You will see the Kubernetes dashboard.\n",
    "\n",
    "(Note: if your token expires, you can generate a new one with `kubectl -n kube-system create token admin-user`.)\n",
    "\n",
    "For now, there is not much of interest in the dashboard. You can see some Kubernetes system services in the “kube-system” namespace, and Argo-related services in the “argo”, “argocd”, and “argo-events” namespaces. We have not yet deployed our GourmetGram services, but we’ll do that in the next step!"
   ]
  },
  {
   "cell_type": "markdown",
   "metadata": {},
   "source": [
    "### Access the ArgoCD dashboard (optional)\n",
    "\n",
    "Similarly, we may access the Argo CD dashboard. In the following command, substitute\n",
    "\n",
    "-   in place of `~/.ssh/id_rsa_chameleon`, the path to your own key\n",
    "-   in place of `A.B.C.D`, the floating IP assigned to your “node1” instance\n",
    "\n",
    "``` bash\n",
    "# runs in your **local** terminal\n",
    "ssh -L 8888:127.0.0.1:8888 -i ~/.ssh/id_rsa_chameleon cc@A.B.C.D\n",
    "```\n",
    "\n",
    "then, inside that terminal, run\n",
    "\n",
    "``` bash\n",
    "# runs on node1 \n",
    "kubectl port-forward svc/argocd-server -n argocd 8888:443\n",
    "```\n",
    "\n",
    "and leave it running.\n",
    "\n",
    "Now, in a browser, you may open\n",
    "\n",
    "    https://127.0.0.1:8888/\n",
    "\n",
    "You will see a warning about an invalid certificate, which you may override and choose the “Advanced” option to proceed. Then, you will be prompted to log in.\n",
    "\n",
    "From the output of the post-install playbook above, find the “ArgoCD Password” and paste it into the password space, use `admin` for the username, then log in.\n",
    "\n",
    "For now, there is not much of interest in Argo CD. We have not yet configured Argo with for any deployments, but we’ll do that in the next step!"
   ]
  },
  {
   "cell_type": "markdown",
   "metadata": {},
   "source": [
    "### Access the Argo Workflows dashboard (optional)\n",
    "\n",
    "Finally, we may access the Argo Workflows dashboard. In the following command, substitute\n",
    "\n",
    "-   in place of `~/.ssh/id_rsa_chameleon`, the path to your own key\n",
    "-   in place of `A.B.C.D`, the floating IP assigned to your “node1” instance\n",
    "\n",
    "``` bash\n",
    "# runs in your **local** terminal\n",
    "ssh -L 2746:127.0.0.1:2746 -i ~/.ssh/id_rsa_chameleon cc@A.B.C.D\n",
    "```\n",
    "\n",
    "then, inside that terminal, run\n",
    "\n",
    "``` bash\n",
    "# runs on node1 \n",
    "kubectl -n argo port-forward svc/argo-server 2746:2746\n",
    "```\n",
    "\n",
    "and leave it running.\n",
    "\n",
    "Now, in a browser, you may open\n",
    "\n",
    "    https://127.0.0.1:2746/\n",
    "\n",
    "You will see a warning about an invalid certificate, which you may override and choose the “Advanced” option to proceed. Then, you will be able to see the Argo Workflows dashboard.\n",
    "\n",
    "Again, there is not much of interest - but there will be, soon."
   ]
  }
 ],
 "metadata": {
  "kernelspec": {
   "display_name": "Bash",
   "language": "bash",
   "name": "bash"
  },
  "language_info": {
   "codemirror_mode": "shell",
   "file_extension": ".sh",
   "mimetype": "shell",
   "name": "bash"
  }
 },
 "nbformat": 4,
 "nbformat_minor": 4
}
